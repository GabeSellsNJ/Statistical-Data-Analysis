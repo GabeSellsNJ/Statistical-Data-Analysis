{
 "cells": [
  {
   "cell_type": "markdown",
   "metadata": {},
   "source": [
    "## Initialization"
   ]
  },
  {
   "cell_type": "markdown",
   "metadata": {},
   "source": [
    "INTRODUCTION\n",
    "We will be analyzing two prepaid plans for Megaline, a telecom operator. As we analyze both plans, we will check for signaficant behavior differences, if any. Through our analysis, we should be able to determine if one plan more profitbale than the other."
   ]
  },
  {
   "cell_type": "code",
   "execution_count": 4,
   "metadata": {},
   "outputs": [],
   "source": [
    "# Loading all the libraries\n",
    "import pandas as pd\n",
    "import numpy as np\n",
    "from scipy import stats as st\n",
    "from matplotlib import pyplot as plt"
   ]
  },
  {
   "cell_type": "code",
   "execution_count": 5,
   "metadata": {},
   "outputs": [],
   "source": [
    "# Load the data files into different DataFrames\n",
    "df_calls = pd.read_csv('megaline_calls.csv')\n",
    "df_internet = pd.read_csv('megaline_internet.csv')\n",
    "df_msg = pd.read_csv('megaline_messages.csv')\n",
    "df_plans = pd.read_csv('megaline_plans.csv')\n",
    "df_users = pd.read_csv('megaline_users.csv')\n",
    "\n"
   ]
  },
  {
   "cell_type": "markdown",
   "metadata": {},
   "source": [
    "## Plans"
   ]
  },
  {
   "cell_type": "code",
   "execution_count": 6,
   "metadata": {},
   "outputs": [
    {
     "name": "stdout",
     "output_type": "stream",
     "text": [
      "<class 'pandas.core.frame.DataFrame'>\n",
      "RangeIndex: 2 entries, 0 to 1\n",
      "Data columns (total 8 columns):\n",
      " #   Column                 Non-Null Count  Dtype  \n",
      "---  ------                 --------------  -----  \n",
      " 0   messages_included      2 non-null      int64  \n",
      " 1   mb_per_month_included  2 non-null      int64  \n",
      " 2   minutes_included       2 non-null      int64  \n",
      " 3   usd_monthly_pay        2 non-null      int64  \n",
      " 4   usd_per_gb             2 non-null      int64  \n",
      " 5   usd_per_message        2 non-null      float64\n",
      " 6   usd_per_minute         2 non-null      float64\n",
      " 7   plan_name              2 non-null      object \n",
      "dtypes: float64(2), int64(5), object(1)\n",
      "memory usage: 256.0+ bytes\n"
     ]
    }
   ],
   "source": [
    "# Print the general/summary information about the plans' DataFrame\n",
    "df_plans.info()"
   ]
  },
  {
   "cell_type": "code",
   "execution_count": 7,
   "metadata": {},
   "outputs": [
    {
     "name": "stdout",
     "output_type": "stream",
     "text": [
      "   messages_included  mb_per_month_included  minutes_included  \\\n",
      "0                 50                  15360               500   \n",
      "1               1000                  30720              3000   \n",
      "\n",
      "   usd_monthly_pay  usd_per_gb  usd_per_message  usd_per_minute plan_name  \n",
      "0               20          10             0.03            0.03      surf  \n",
      "1               70           7             0.01            0.01  ultimate  \n"
     ]
    }
   ],
   "source": [
    "# Print a sample of data for plans\n",
    "print(df_plans)\n"
   ]
  },
  {
   "cell_type": "markdown",
   "metadata": {},
   "source": [
    "This looks fine to me. \n",
    "Note: (1GB = 1,024MB)"
   ]
  },
  {
   "cell_type": "markdown",
   "metadata": {},
   "source": [
    "## Users"
   ]
  },
  {
   "cell_type": "code",
   "execution_count": 8,
   "metadata": {},
   "outputs": [
    {
     "name": "stdout",
     "output_type": "stream",
     "text": [
      "<class 'pandas.core.frame.DataFrame'>\n",
      "RangeIndex: 500 entries, 0 to 499\n",
      "Data columns (total 8 columns):\n",
      " #   Column      Non-Null Count  Dtype \n",
      "---  ------      --------------  ----- \n",
      " 0   user_id     500 non-null    int64 \n",
      " 1   first_name  500 non-null    object\n",
      " 2   last_name   500 non-null    object\n",
      " 3   age         500 non-null    int64 \n",
      " 4   city        500 non-null    object\n",
      " 5   reg_date    500 non-null    object\n",
      " 6   plan        500 non-null    object\n",
      " 7   churn_date  34 non-null     object\n",
      "dtypes: int64(2), object(6)\n",
      "memory usage: 31.4+ KB\n"
     ]
    }
   ],
   "source": [
    "# Print the general/summary information about the users' DataFrame\n",
    "df_users.info()\n"
   ]
  },
  {
   "cell_type": "code",
   "execution_count": 9,
   "metadata": {
    "scrolled": false
   },
   "outputs": [
    {
     "name": "stdout",
     "output_type": "stream",
     "text": [
      "     user_id first_name  last_name  age  \\\n",
      "262     1262  Michelina   Hamilton   34   \n",
      "379     1379    Jarrett    Spencer   34   \n",
      "0       1000   Anamaria      Bauer   45   \n",
      "407     1407    Tristan  Daugherty   27   \n",
      "124     1124     Jenell    Navarro   48   \n",
      "228     1228       Jude       Hale   26   \n",
      "68      1068     Marcel    Jimenez   47   \n",
      "\n",
      "                                          city    reg_date      plan  \\\n",
      "262        Dallas-Fort Worth-Arlington, TX MSA  2018-02-09      surf   \n",
      "379              Grand Rapids-Kentwood, MI MSA  2018-10-18      surf   \n",
      "0        Atlanta-Sandy Springs-Roswell, GA MSA  2018-12-24  ultimate   \n",
      "407  New York-Newark-Jersey City, NY-NJ-PA MSA  2018-11-29  ultimate   \n",
      "124                  New Haven-Milford, CT MSA  2018-02-19  ultimate   \n",
      "228            Detroit-Warren-Dearborn, MI MSA  2018-04-15      surf   \n",
      "68   New York-Newark-Jersey City, NY-NJ-PA MSA  2018-01-29      surf   \n",
      "\n",
      "    churn_date  \n",
      "262        NaN  \n",
      "379        NaN  \n",
      "0          NaN  \n",
      "407        NaN  \n",
      "124        NaN  \n",
      "228        NaN  \n",
      "68         NaN  \n"
     ]
    }
   ],
   "source": [
    "# Print a sample of data for users\n",
    "print(df_users.sample(n=7))"
   ]
  },
  {
   "cell_type": "markdown",
   "metadata": {},
   "source": [
    "\"reg_date\" should be coverted to datetime datatype. \n",
    "\"churn_date\" has alot of empty value. Since we don't need it for this analysis, best to drop it."
   ]
  },
  {
   "cell_type": "markdown",
   "metadata": {},
   "source": [
    "### Fix Data"
   ]
  },
  {
   "cell_type": "code",
   "execution_count": 10,
   "metadata": {},
   "outputs": [
    {
     "name": "stdout",
     "output_type": "stream",
     "text": [
      "<class 'pandas.core.frame.DataFrame'>\n",
      "RangeIndex: 500 entries, 0 to 499\n",
      "Data columns (total 8 columns):\n",
      " #   Column      Non-Null Count  Dtype         \n",
      "---  ------      --------------  -----         \n",
      " 0   user_id     500 non-null    int64         \n",
      " 1   first_name  500 non-null    object        \n",
      " 2   last_name   500 non-null    object        \n",
      " 3   age         500 non-null    int64         \n",
      " 4   city        500 non-null    object        \n",
      " 5   reg_date    500 non-null    datetime64[ns]\n",
      " 6   plan        500 non-null    object        \n",
      " 7   churn_date  34 non-null     object        \n",
      "dtypes: datetime64[ns](1), int64(2), object(5)\n",
      "memory usage: 31.4+ KB\n",
      "     user_id first_name last_name  age  \\\n",
      "340     1340      Vanna   Stanton   65   \n",
      "63      1063   Larhonda   Hartman   60   \n",
      "433     1433     Lyndon  Morrison   29   \n",
      "151     1151      Ralph    Monroe   21   \n",
      "237     1237   Leighann   Wheeler   50   \n",
      "154     1154   Humberto    Pruitt   53   \n",
      "419     1419      Bryon    Gordon   45   \n",
      "\n",
      "                                                 city   reg_date      plan  \\\n",
      "340               Dallas-Fort Worth-Arlington, TX MSA 2018-07-05      surf   \n",
      "63          New York-Newark-Jersey City, NY-NJ-PA MSA 2018-11-05  ultimate   \n",
      "433   Philadelphia-Camden-Wilmington, PA-NJ-DE-MD MSA 2018-08-29  ultimate   \n",
      "151         New York-Newark-Jersey City, NY-NJ-PA MSA 2018-03-20      surf   \n",
      "237         New York-Newark-Jersey City, NY-NJ-PA MSA 2018-08-26  ultimate   \n",
      "154  Nashville-Davidson–Murfreesboro–Franklin, TN MSA 2018-07-18  ultimate   \n",
      "419                     Phoenix-Mesa-Chandler, AZ MSA 2018-03-29      surf   \n",
      "\n",
      "    churn_date  \n",
      "340        NaN  \n",
      "63         NaN  \n",
      "433        NaN  \n",
      "151        NaN  \n",
      "237        NaN  \n",
      "154        NaN  \n",
      "419        NaN  \n"
     ]
    }
   ],
   "source": [
    "df_users['reg_date'] = pd.to_datetime(df_users['reg_date'], format='%Y-%m-%d')\n",
    "\n",
    "#checking if data is now correct\n",
    "df_users.info()\n",
    "print(df_users.sample(n=7))"
   ]
  },
  {
   "cell_type": "markdown",
   "metadata": {},
   "source": [
    "### Enrich Data"
   ]
  },
  {
   "cell_type": "code",
   "execution_count": 11,
   "metadata": {},
   "outputs": [
    {
     "name": "stdout",
     "output_type": "stream",
     "text": [
      "<class 'pandas.core.frame.DataFrame'>\n",
      "RangeIndex: 500 entries, 0 to 499\n",
      "Data columns (total 7 columns):\n",
      " #   Column      Non-Null Count  Dtype         \n",
      "---  ------      --------------  -----         \n",
      " 0   user_id     500 non-null    int64         \n",
      " 1   first_name  500 non-null    object        \n",
      " 2   last_name   500 non-null    object        \n",
      " 3   age         500 non-null    int64         \n",
      " 4   city        500 non-null    object        \n",
      " 5   reg_date    500 non-null    datetime64[ns]\n",
      " 6   plan        500 non-null    object        \n",
      "dtypes: datetime64[ns](1), int64(2), object(4)\n",
      "memory usage: 27.5+ KB\n"
     ]
    }
   ],
   "source": [
    "df_users = df_users.drop('churn_date', axis=1)\n",
    "df_users.info()"
   ]
  },
  {
   "cell_type": "markdown",
   "metadata": {},
   "source": [
    "## Calls"
   ]
  },
  {
   "cell_type": "code",
   "execution_count": 12,
   "metadata": {},
   "outputs": [
    {
     "name": "stdout",
     "output_type": "stream",
     "text": [
      "<class 'pandas.core.frame.DataFrame'>\n",
      "RangeIndex: 137735 entries, 0 to 137734\n",
      "Data columns (total 4 columns):\n",
      " #   Column     Non-Null Count   Dtype  \n",
      "---  ------     --------------   -----  \n",
      " 0   id         137735 non-null  object \n",
      " 1   user_id    137735 non-null  int64  \n",
      " 2   call_date  137735 non-null  object \n",
      " 3   duration   137735 non-null  float64\n",
      "dtypes: float64(1), int64(1), object(2)\n",
      "memory usage: 4.2+ MB\n"
     ]
    }
   ],
   "source": [
    "# Print the general/summary information about the calls' DataFrame\n",
    "df_calls.info()\n"
   ]
  },
  {
   "cell_type": "code",
   "execution_count": 13,
   "metadata": {},
   "outputs": [
    {
     "name": "stdout",
     "output_type": "stream",
     "text": [
      "              id  user_id   call_date  duration\n",
      "77995   1279_123     1279  2018-12-22      4.69\n",
      "115842   1406_68     1406  2018-06-08     18.95\n",
      "107477    1382_5     1382  2018-09-22      0.00\n",
      "42407    1156_12     1156  2018-05-30      4.43\n",
      "110281  1389_341     1389  2018-11-15      2.35\n",
      "81985   1295_413     1295  2018-08-16      8.88\n",
      "34325   1127_146     1127  2018-10-30      0.00\n"
     ]
    }
   ],
   "source": [
    "# Print a sample of data for calls\n",
    "print(df_calls.sample(n=7))"
   ]
  },
  {
   "cell_type": "markdown",
   "metadata": {},
   "source": [
    "'call_date' should be DateTime datatype. We should create a month colum, since we will be analyzing data by month.\n",
    "Also, we need to round up the duration of each call."
   ]
  },
  {
   "cell_type": "markdown",
   "metadata": {},
   "source": [
    "### Fix data"
   ]
  },
  {
   "cell_type": "code",
   "execution_count": 14,
   "metadata": {},
   "outputs": [
    {
     "name": "stdout",
     "output_type": "stream",
     "text": [
      "<class 'pandas.core.frame.DataFrame'>\n",
      "RangeIndex: 137735 entries, 0 to 137734\n",
      "Data columns (total 5 columns):\n",
      " #   Column     Non-Null Count   Dtype         \n",
      "---  ------     --------------   -----         \n",
      " 0   id         137735 non-null  object        \n",
      " 1   user_id    137735 non-null  int64         \n",
      " 2   call_date  137735 non-null  datetime64[ns]\n",
      " 3   duration   137735 non-null  float64       \n",
      " 4   month      137735 non-null  int64         \n",
      "dtypes: datetime64[ns](1), float64(1), int64(2), object(1)\n",
      "memory usage: 5.3+ MB\n"
     ]
    }
   ],
   "source": [
    "#changing to datatime datatype\n",
    "df_calls['call_date'] = pd.to_datetime(df_calls['call_date'], format='%Y-%m-%d')\n",
    "\n",
    "#creating a new column extracting the month for eacb call\n",
    "df_calls['month'] = pd.DatetimeIndex(df_calls['call_date']).month\n",
    "\n",
    "#checking if data is correct\n",
    "df_calls.info()"
   ]
  },
  {
   "cell_type": "markdown",
   "metadata": {},
   "source": [
    "### Enrich data"
   ]
  },
  {
   "cell_type": "markdown",
   "metadata": {},
   "source": [
    "creating a new column rounding up the call durations is better than altering the existing duration column. Rather not lose that data."
   ]
  },
  {
   "cell_type": "code",
   "execution_count": 15,
   "metadata": {},
   "outputs": [
    {
     "name": "stdout",
     "output_type": "stream",
     "text": [
      "              id  user_id  call_date  duration  month  duration_up\n",
      "19276    1073_92     1073 2018-06-14      3.91      6            4\n",
      "67367   1241_203     1241 2018-12-31      0.00     12            0\n",
      "27757     1106_2     1106 2018-12-23      7.28     12            8\n",
      "88756   1324_814     1324 2018-07-25      0.00      7            0\n",
      "85192   1313_172     1313 2018-07-18      0.52      7            1\n",
      "76121   1268_625     1268 2018-06-17      3.00      6            3\n",
      "119817  1417_490     1417 2018-07-13      4.13      7            5\n",
      "<class 'pandas.core.frame.DataFrame'>\n",
      "RangeIndex: 137735 entries, 0 to 137734\n",
      "Data columns (total 6 columns):\n",
      " #   Column       Non-Null Count   Dtype         \n",
      "---  ------       --------------   -----         \n",
      " 0   id           137735 non-null  object        \n",
      " 1   user_id      137735 non-null  int64         \n",
      " 2   call_date    137735 non-null  datetime64[ns]\n",
      " 3   duration     137735 non-null  float64       \n",
      " 4   month        137735 non-null  int64         \n",
      " 5   duration_up  137735 non-null  int64         \n",
      "dtypes: datetime64[ns](1), float64(1), int64(3), object(1)\n",
      "memory usage: 6.3+ MB\n"
     ]
    }
   ],
   "source": [
    "df_calls['duration_up']= df_calls['duration'].apply(np.ceil).astype('int')\n",
    "\n",
    "print(df_calls.sample(n=7))\n",
    "\n",
    "#checking to make sure the data changes are correct\n",
    "df_calls.info()"
   ]
  },
  {
   "cell_type": "markdown",
   "metadata": {},
   "source": [
    "## Messages"
   ]
  },
  {
   "cell_type": "code",
   "execution_count": 16,
   "metadata": {},
   "outputs": [
    {
     "name": "stdout",
     "output_type": "stream",
     "text": [
      "<class 'pandas.core.frame.DataFrame'>\n",
      "RangeIndex: 76051 entries, 0 to 76050\n",
      "Data columns (total 3 columns):\n",
      " #   Column        Non-Null Count  Dtype \n",
      "---  ------        --------------  ----- \n",
      " 0   id            76051 non-null  object\n",
      " 1   user_id       76051 non-null  int64 \n",
      " 2   message_date  76051 non-null  object\n",
      "dtypes: int64(1), object(2)\n",
      "memory usage: 1.7+ MB\n"
     ]
    }
   ],
   "source": [
    "# Print the general/summary information about the messages' DataFrame\n",
    "df_msg.info()\n"
   ]
  },
  {
   "cell_type": "code",
   "execution_count": 17,
   "metadata": {},
   "outputs": [
    {
     "name": "stdout",
     "output_type": "stream",
     "text": [
      "              id  user_id message_date\n",
      "65654    1422_59     1422   2018-10-23\n",
      "31170    1195_37     1195   2018-12-15\n",
      "55816   1352_157     1352   2018-12-14\n",
      "62992    1399_57     1399   2018-10-13\n",
      "4473    1043_761     1043   2018-07-30\n",
      "48329  1324_1063     1324   2018-12-05\n",
      "52309   1336_277     1336   2018-06-16\n"
     ]
    }
   ],
   "source": [
    "# Print a sample of data for messages\n",
    "print(df_msg.sample(n=7))\n"
   ]
  },
  {
   "cell_type": "markdown",
   "metadata": {},
   "source": [
    "message_date should be datetime datatype"
   ]
  },
  {
   "cell_type": "markdown",
   "metadata": {},
   "source": [
    "### Fix data"
   ]
  },
  {
   "cell_type": "markdown",
   "metadata": {},
   "source": [
    "all dates should be datetime datatype"
   ]
  },
  {
   "cell_type": "code",
   "execution_count": 18,
   "metadata": {},
   "outputs": [],
   "source": [
    "df_msg['message_date'] = pd.to_datetime(df_msg['message_date'], format='%Y-%m-%d')\n"
   ]
  },
  {
   "cell_type": "markdown",
   "metadata": {},
   "source": [
    "### Enrich data"
   ]
  },
  {
   "cell_type": "markdown",
   "metadata": {},
   "source": [
    "Once again since we'll be analyzing by month, we should add month column."
   ]
  },
  {
   "cell_type": "code",
   "execution_count": 19,
   "metadata": {},
   "outputs": [
    {
     "name": "stdout",
     "output_type": "stream",
     "text": [
      "<class 'pandas.core.frame.DataFrame'>\n",
      "RangeIndex: 76051 entries, 0 to 76050\n",
      "Data columns (total 4 columns):\n",
      " #   Column        Non-Null Count  Dtype         \n",
      "---  ------        --------------  -----         \n",
      " 0   id            76051 non-null  object        \n",
      " 1   user_id       76051 non-null  int64         \n",
      " 2   message_date  76051 non-null  datetime64[ns]\n",
      " 3   month         76051 non-null  int64         \n",
      "dtypes: datetime64[ns](1), int64(2), object(1)\n",
      "memory usage: 2.3+ MB\n"
     ]
    }
   ],
   "source": [
    "df_msg['month'] = pd.DatetimeIndex(df_msg['message_date']).month\n",
    "\n",
    "df_msg.info()"
   ]
  },
  {
   "cell_type": "markdown",
   "metadata": {},
   "source": [
    "## Internet"
   ]
  },
  {
   "cell_type": "code",
   "execution_count": 20,
   "metadata": {},
   "outputs": [
    {
     "name": "stdout",
     "output_type": "stream",
     "text": [
      "<class 'pandas.core.frame.DataFrame'>\n",
      "RangeIndex: 104825 entries, 0 to 104824\n",
      "Data columns (total 4 columns):\n",
      " #   Column        Non-Null Count   Dtype  \n",
      "---  ------        --------------   -----  \n",
      " 0   id            104825 non-null  object \n",
      " 1   user_id       104825 non-null  int64  \n",
      " 2   session_date  104825 non-null  object \n",
      " 3   mb_used       104825 non-null  float64\n",
      "dtypes: float64(1), int64(1), object(2)\n",
      "memory usage: 3.2+ MB\n"
     ]
    }
   ],
   "source": [
    "# Print the general/summary information about the internet DataFrame\n",
    "df_internet.info()\n"
   ]
  },
  {
   "cell_type": "code",
   "execution_count": 21,
   "metadata": {},
   "outputs": [
    {
     "name": "stdout",
     "output_type": "stream",
     "text": [
      "             id  user_id session_date  mb_used\n",
      "3545   1020_146     1020   2018-12-10   513.79\n",
      "91257  1420_150     1420   2018-11-01     0.00\n",
      "28392  1130_177     1130   2018-11-30   364.42\n",
      "40808  1182_594     1182   2018-11-23  1037.23\n",
      "2055   1010_226     1010   2018-05-07   177.68\n",
      "70799   1331_50     1331   2018-09-25   784.38\n",
      "11939   1059_38     1059   2018-12-04   320.16\n"
     ]
    }
   ],
   "source": [
    "# Print a sample of data for the internet traffic\n",
    "print(df_internet.sample(n=7))\n"
   ]
  },
  {
   "cell_type": "markdown",
   "metadata": {},
   "source": [
    "### Fix data"
   ]
  },
  {
   "cell_type": "markdown",
   "metadata": {},
   "source": [
    "session_date should be datetime datatype"
   ]
  },
  {
   "cell_type": "code",
   "execution_count": 22,
   "metadata": {},
   "outputs": [],
   "source": [
    "df_internet['session_date'] = pd.to_datetime(df_internet['session_date'], format='%Y-%m-%d')"
   ]
  },
  {
   "cell_type": "markdown",
   "metadata": {},
   "source": [
    "### Enrich data"
   ]
  },
  {
   "cell_type": "markdown",
   "metadata": {},
   "source": [
    "Once again since we'll be analyzing by month, we should add month column."
   ]
  },
  {
   "cell_type": "code",
   "execution_count": 23,
   "metadata": {},
   "outputs": [
    {
     "name": "stdout",
     "output_type": "stream",
     "text": [
      "<class 'pandas.core.frame.DataFrame'>\n",
      "RangeIndex: 104825 entries, 0 to 104824\n",
      "Data columns (total 5 columns):\n",
      " #   Column        Non-Null Count   Dtype         \n",
      "---  ------        --------------   -----         \n",
      " 0   id            104825 non-null  object        \n",
      " 1   user_id       104825 non-null  int64         \n",
      " 2   session_date  104825 non-null  datetime64[ns]\n",
      " 3   mb_used       104825 non-null  float64       \n",
      " 4   month         104825 non-null  int64         \n",
      "dtypes: datetime64[ns](1), float64(1), int64(2), object(1)\n",
      "memory usage: 4.0+ MB\n"
     ]
    }
   ],
   "source": [
    "df_internet['month'] = pd.DatetimeIndex(df_internet['session_date']).month\n",
    "\n",
    "df_internet.info()"
   ]
  },
  {
   "cell_type": "markdown",
   "metadata": {},
   "source": [
    "## Study plan conditions"
   ]
  },
  {
   "cell_type": "markdown",
   "metadata": {},
   "source": [
    "[It is critical to understand how the plans work, how users are charged based on their plan subscription. So, we suggest printing out the plan information to view their conditions once again.]"
   ]
  },
  {
   "cell_type": "code",
   "execution_count": 24,
   "metadata": {},
   "outputs": [
    {
     "name": "stdout",
     "output_type": "stream",
     "text": [
      "   messages_included  mb_per_month_included  minutes_included  \\\n",
      "0                 50                  15360               500   \n",
      "1               1000                  30720              3000   \n",
      "\n",
      "   usd_monthly_pay  usd_per_gb  usd_per_message  usd_per_minute plan_name  \n",
      "0               20          10             0.03            0.03      surf  \n",
      "1               70           7             0.01            0.01  ultimate  \n"
     ]
    }
   ],
   "source": [
    "# Print out the plan conditions and make sure they are clear for you\n",
    "\n",
    "print(df_plans)\n"
   ]
  },
  {
   "cell_type": "markdown",
   "metadata": {},
   "source": [
    "## Aggregate data per user\n",
    "\n",
    "[Now, as the data is clean, aggregate data per user per period in order to have just one record per user per period. It should ease the further analysis a lot.]"
   ]
  },
  {
   "cell_type": "code",
   "execution_count": 25,
   "metadata": {},
   "outputs": [
    {
     "name": "stdout",
     "output_type": "stream",
     "text": [
      "user_id  month\n",
      "1000     12        16\n",
      "1001     8         27\n",
      "         9         49\n",
      "         10        65\n",
      "         11        64\n",
      "         12        56\n",
      "1002     10        11\n",
      "         11        55\n",
      "         12        47\n",
      "1003     12       149\n",
      "Name: duration_up, dtype: int64\n"
     ]
    }
   ],
   "source": [
    "# Calculate the number of calls made by each user per month. Save the result.\n",
    "df_calls_per_user = df_calls.groupby(['user_id','month'])['duration_up'].count()\n",
    "print(df_calls_per_user.head(10))\n"
   ]
  },
  {
   "cell_type": "code",
   "execution_count": 26,
   "metadata": {},
   "outputs": [
    {
     "name": "stdout",
     "output_type": "stream",
     "text": [
      "user_id  month\n",
      "1000     12        124\n",
      "1001     8         182\n",
      "         9         315\n",
      "         10        393\n",
      "         11        426\n",
      "         12        412\n",
      "1002     10         59\n",
      "         11        386\n",
      "         12        384\n",
      "1003     12       1104\n",
      "Name: duration_up, dtype: int64\n"
     ]
    }
   ],
   "source": [
    "# Calculate the amount of minutes spent by each user per month. Save the result.\n",
    "df_minutes_per_user = df_calls.groupby(['user_id','month'])['duration_up'].sum()\n",
    "print(df_minutes_per_user.head(10))\n"
   ]
  },
  {
   "cell_type": "code",
   "execution_count": 27,
   "metadata": {},
   "outputs": [
    {
     "name": "stdout",
     "output_type": "stream",
     "text": [
      "user_id  month\n",
      "1000     12       11\n",
      "1001     8        30\n",
      "         9        44\n",
      "         10       53\n",
      "         11       36\n",
      "         12       44\n",
      "1002     10       15\n",
      "         11       32\n",
      "         12       41\n",
      "1003     12       50\n",
      "Name: message_date, dtype: int64\n"
     ]
    }
   ],
   "source": [
    "# Calculate the number of messages sent by each user per month. Save the result.\n",
    "df_msgs_per_users = df_msg.groupby(['user_id','month'])['message_date'].count()\n",
    "print(df_msgs_per_users.head(10))"
   ]
  },
  {
   "cell_type": "code",
   "execution_count": 28,
   "metadata": {},
   "outputs": [
    {
     "name": "stdout",
     "output_type": "stream",
     "text": [
      "user_id  month\n",
      "1000     12        1901.47\n",
      "1001     8         6919.15\n",
      "         9        13314.82\n",
      "         10       22330.49\n",
      "         11       18504.30\n",
      "         12       19369.18\n",
      "1002     10        6552.01\n",
      "         11       19345.08\n",
      "         12       14396.24\n",
      "1003     12       27044.14\n",
      "Name: mb_used, dtype: float64\n"
     ]
    }
   ],
   "source": [
    "# Calculate the volume of internet traffic used by each user per month. Save the result.\n",
    "df_internet_per_users = df_internet.groupby(['user_id','month'])['mb_used'].sum()\n",
    "print(df_internet_per_users.head(10))"
   ]
  },
  {
   "cell_type": "markdown",
   "metadata": {},
   "source": [
    "[Put the aggregate data together into one DataFrame so that one record in it would represent what an unique user consumed in a given month.]"
   ]
  },
  {
   "cell_type": "code",
   "execution_count": 29,
   "metadata": {},
   "outputs": [
    {
     "name": "stdout",
     "output_type": "stream",
     "text": [
      "   user_id  month  total_calls_per_user  total_mins_per_user  \\\n",
      "0     1000     12                  16.0                124.0   \n",
      "1     1001      8                  27.0                182.0   \n",
      "2     1001      9                  49.0                315.0   \n",
      "3     1001     10                  65.0                393.0   \n",
      "4     1001     11                  64.0                426.0   \n",
      "5     1001     12                  56.0                412.0   \n",
      "6     1002     10                  11.0                 59.0   \n",
      "7     1002     11                  55.0                386.0   \n",
      "8     1002     12                  47.0                384.0   \n",
      "9     1003     12                 149.0               1104.0   \n",
      "\n",
      "   total_msgs_per_user  total_mb_per_user  \n",
      "0                 11.0            1901.47  \n",
      "1                 30.0            6919.15  \n",
      "2                 44.0           13314.82  \n",
      "3                 53.0           22330.49  \n",
      "4                 36.0           18504.30  \n",
      "5                 44.0           19369.18  \n",
      "6                 15.0            6552.01  \n",
      "7                 32.0           19345.08  \n",
      "8                 41.0           14396.24  \n",
      "9                 50.0           27044.14  \n"
     ]
    }
   ],
   "source": [
    "# Merge the data for calls, minutes, messages, internet based on user_id and month\n",
    "df_concat = pd.concat([df_calls_per_user,df_minutes_per_user,df_msgs_per_users, df_internet_per_users], axis=1)\n",
    "\n",
    "#rename columns\n",
    "df_concat.columns = ['total_calls_per_user', 'total_mins_per_user', 'total_msgs_per_user','total_mb_per_user']\n",
    "\n",
    "#change indices to columns\n",
    "df_concat.reset_index(inplace=True)\n",
    "\n",
    "#sort by user_id then month\n",
    "df_concat.sort_values(by = ['user_id', 'month'])\n",
    "\n",
    "print(df_concat.head(10))"
   ]
  },
  {
   "cell_type": "code",
   "execution_count": 30,
   "metadata": {},
   "outputs": [
    {
     "name": "stdout",
     "output_type": "stream",
     "text": [
      "<class 'pandas.core.frame.DataFrame'>\n",
      "Int64Index: 2293 entries, 0 to 2292\n",
      "Data columns (total 8 columns):\n",
      " #   Column                Non-Null Count  Dtype  \n",
      "---  ------                --------------  -----  \n",
      " 0   user_id               2293 non-null   int64  \n",
      " 1   month                 2293 non-null   int64  \n",
      " 2   total_calls_per_user  2293 non-null   int64  \n",
      " 3   total_mins_per_user   2293 non-null   int64  \n",
      " 4   total_msgs_per_user   2293 non-null   int64  \n",
      " 5   total_mb_per_user     2293 non-null   float64\n",
      " 6   city                  2293 non-null   object \n",
      " 7   plan                  2293 non-null   object \n",
      "dtypes: float64(1), int64(5), object(2)\n",
      "memory usage: 161.2+ KB\n",
      "   user_id  month  total_calls_per_user  total_mins_per_user  \\\n",
      "0     1000     12                    16                  124   \n",
      "1     1001      8                    27                  182   \n",
      "2     1001      9                    49                  315   \n",
      "3     1001     10                    65                  393   \n",
      "4     1001     11                    64                  426   \n",
      "5     1001     12                    56                  412   \n",
      "6     1002     10                    11                   59   \n",
      "7     1002     11                    55                  386   \n",
      "8     1002     12                    47                  384   \n",
      "9     1003     12                   149                 1104   \n",
      "\n",
      "   total_msgs_per_user  total_mb_per_user  \\\n",
      "0                   11            1901.47   \n",
      "1                   30            6919.15   \n",
      "2                   44           13314.82   \n",
      "3                   53           22330.49   \n",
      "4                   36           18504.30   \n",
      "5                   44           19369.18   \n",
      "6                   15            6552.01   \n",
      "7                   32           19345.08   \n",
      "8                   41           14396.24   \n",
      "9                   50           27044.14   \n",
      "\n",
      "                                    city      plan  \n",
      "0  Atlanta-Sandy Springs-Roswell, GA MSA  ultimate  \n",
      "1        Seattle-Tacoma-Bellevue, WA MSA      surf  \n",
      "2        Seattle-Tacoma-Bellevue, WA MSA      surf  \n",
      "3        Seattle-Tacoma-Bellevue, WA MSA      surf  \n",
      "4        Seattle-Tacoma-Bellevue, WA MSA      surf  \n",
      "5        Seattle-Tacoma-Bellevue, WA MSA      surf  \n",
      "6   Las Vegas-Henderson-Paradise, NV MSA      surf  \n",
      "7   Las Vegas-Henderson-Paradise, NV MSA      surf  \n",
      "8   Las Vegas-Henderson-Paradise, NV MSA      surf  \n",
      "9                          Tulsa, OK MSA      surf  \n"
     ]
    }
   ],
   "source": [
    "# Add the plan information\n",
    "df_merged = df_concat.merge(df_users, on = 'user_id', how='left')\n",
    "df_merged = df_merged.drop(['first_name','last_name','age','reg_date'], axis='columns') #we don't need this data\n",
    "\n",
    "df_merged = df_merged.replace(np.nan, 0) #replace missing values with zero\n",
    "df_merged['total_calls_per_user'] = df_merged['total_calls_per_user'].astype('int')\n",
    "df_merged['total_mins_per_user'] = df_merged['total_mins_per_user'].astype('int')\n",
    "df_merged['total_msgs_per_user'] = df_merged['total_msgs_per_user'].astype('int')\n",
    "\n",
    "df_merged.info()\n",
    "print(df_merged.head(10))"
   ]
  },
  {
   "cell_type": "markdown",
   "metadata": {},
   "source": [
    "[Calculate the monthly revenue from each user (subtract the free package limit from the total number of calls, text messages, and data; multiply the result by the calling plan value; add the monthly charge depending on the calling plan). N.B. This might not be as trivial as just a couple of lines given the plan conditions! So, it's okay to spend some time on it.]"
   ]
  },
  {
   "cell_type": "code",
   "execution_count": 31,
   "metadata": {},
   "outputs": [
    {
     "name": "stdout",
     "output_type": "stream",
     "text": [
      "<class 'pandas.core.frame.DataFrame'>\n",
      "Int64Index: 2293 entries, 0 to 2292\n",
      "Data columns (total 9 columns):\n",
      " #   Column                Non-Null Count  Dtype  \n",
      "---  ------                --------------  -----  \n",
      " 0   user_id               2293 non-null   int64  \n",
      " 1   month                 2293 non-null   int64  \n",
      " 2   total_calls_per_user  2293 non-null   int64  \n",
      " 3   total_mins_per_user   2293 non-null   int64  \n",
      " 4   total_msgs_per_user   2293 non-null   int64  \n",
      " 5   total_mb_per_user     2293 non-null   float64\n",
      " 6   city                  2293 non-null   object \n",
      " 7   plan                  2293 non-null   object \n",
      " 8   revenue               2293 non-null   float64\n",
      "dtypes: float64(2), int64(5), object(2)\n",
      "memory usage: 179.1+ KB\n",
      "   user_id  month  total_calls_per_user  total_mins_per_user  \\\n",
      "0     1000     12                    16                  124   \n",
      "1     1001      8                    27                  182   \n",
      "2     1001      9                    49                  315   \n",
      "3     1001     10                    65                  393   \n",
      "4     1001     11                    64                  426   \n",
      "5     1001     12                    56                  412   \n",
      "\n",
      "   total_msgs_per_user  total_mb_per_user  \\\n",
      "0                   11            1901.47   \n",
      "1                   30            6919.15   \n",
      "2                   44           13314.82   \n",
      "3                   53           22330.49   \n",
      "4                   36           18504.30   \n",
      "5                   44           19369.18   \n",
      "\n",
      "                                    city      plan  revenue  \n",
      "0  Atlanta-Sandy Springs-Roswell, GA MSA  ultimate    70.00  \n",
      "1        Seattle-Tacoma-Bellevue, WA MSA      surf    20.00  \n",
      "2        Seattle-Tacoma-Bellevue, WA MSA      surf    20.00  \n",
      "3        Seattle-Tacoma-Bellevue, WA MSA      surf    90.09  \n",
      "4        Seattle-Tacoma-Bellevue, WA MSA      surf    60.00  \n",
      "5        Seattle-Tacoma-Bellevue, WA MSA      surf    60.00  \n"
     ]
    }
   ],
   "source": [
    "# Calculate the monthly revenue for each user\n",
    "\n",
    "def revenue (total_mins,total_msgs,total_mb,plan):\n",
    "    if plan == 'surf':\n",
    "        rev = 20\n",
    "        if total_mins > 500:\n",
    "            rev += (total_mins - 500) * .03\n",
    "        if total_msgs > 50:\n",
    "            rev += (total_msgs - 50) * .03\n",
    "        if total_mb > 15000:\n",
    "            rev += np.ceil((total_mb - 15360)/1024) * 10\n",
    "        return rev\n",
    "    else:\n",
    "        rev = 70\n",
    "        if total_mins > 3000:\n",
    "            rev += (total_mins - 3000) * .01\n",
    "        if total_msgs > 1000:\n",
    "            rev += (total_msgs - 1000) * .01\n",
    "        if total_mb > 30000:\n",
    "            rev += np.ceil((total_mb - 30720)/1024) * 7\n",
    "        return rev\n",
    "            \n",
    "            \n",
    "df_merged['revenue'] = df_merged.apply(lambda x: revenue(x['total_mins_per_user'], x['total_msgs_per_user'], x['total_mb_per_user'], x['plan']), axis=1)\n",
    "\n",
    "\n",
    "df_merged.info()\n",
    "print(df_merged.head(6))\n",
    "\n"
   ]
  },
  {
   "cell_type": "markdown",
   "metadata": {},
   "source": [
    "## Study user behaviour"
   ]
  },
  {
   "cell_type": "markdown",
   "metadata": {},
   "source": [
    "[Calculate some useful descriptive statistics for the aggregated and merged data, which typically reveal an overall picture captured by the data. Draw useful plots to help the understanding. Given that the main task is to compare the plans and decide on which one is more profitable, the statistics and the plots should be calculated on a per-plan basis.]\n",
    "\n",
    "[There are relevant hints in the comments for Calls but they are not provided for Messages and Internet though the principle of statistical study is the same for them as for Calls.]"
   ]
  },
  {
   "cell_type": "markdown",
   "metadata": {},
   "source": [
    "### Calls"
   ]
  },
  {
   "cell_type": "code",
   "execution_count": 32,
   "metadata": {},
   "outputs": [
    {
     "data": {
      "text/plain": [
       "<matplotlib.legend.Legend at 0x7fe4c292e970>"
      ]
     },
     "execution_count": 32,
     "metadata": {},
     "output_type": "execute_result"
    },
    {
     "data": {
      "image/png": "[encoded data removed]",
      "text/plain": [
       "<Figure size 640x480 with 1 Axes>"
      ]
     },
     "metadata": {},
     "output_type": "display_data"
    }
   ],
   "source": [
    "# Compare average duration of calls per each plan per each distinct month. Plot a bar plat to visualize it.\n",
    "df_surf = df_merged.query(\"plan == 'surf'\")\n",
    "df_ultimate = df_merged.query(\"plan == 'ultimate'\")\n",
    "\n",
    "df_surf_calls_dur = df_surf.groupby('month')['total_mins_per_user'].mean()\n",
    "df_ultimate_calls_dur = df_ultimate.groupby('month')['total_mins_per_user'].mean()\n",
    "\n",
    "df_calls_dur_concat = pd.concat([df_surf_calls_dur, df_ultimate_calls_dur], axis=1)\n",
    "df_calls_dur_concat.columns = ['avg_min_surf','avg_min_surf']\n",
    "\n",
    "df_calls_dur_concat.plot(\n",
    "        kind='bar',\n",
    "        title='Average Call Duration',\n",
    "        xlabel='Month',\n",
    "        ylabel='Minutes',rot=0)\n",
    "plt.legend(['Surf Plan', 'Ultimate Plan'])\n"
   ]
  },
  {
   "cell_type": "code",
   "execution_count": 33,
   "metadata": {},
   "outputs": [
    {
     "data": {
      "image/png": "[encoded data removed]",
      "text/plain": [
       "<Figure size 640x480 with 1 Axes>"
      ]
     },
     "metadata": {},
     "output_type": "display_data"
    }
   ],
   "source": [
    "# Compare the number of minutes users of each plan require each month. Plot a histogram.\n",
    "df_surf['total_mins_per_user'].plot(kind='hist', bins=50, title = 'Call Duration', ylabel='Frenquency')\n",
    "df_ultimate['total_mins_per_user'].plot(kind='hist',alpha =.6,bins=50)\n",
    "plt.legend([\"Surf Plan\", \"Ultimate Plan\"]);\n",
    "plt.show()"
   ]
  },
  {
   "cell_type": "markdown",
   "metadata": {},
   "source": [
    "[Calculate the mean and the variable of the call duration to reason on whether users on the different plans have different behaviours for their calls.]"
   ]
  },
  {
   "cell_type": "code",
   "execution_count": 34,
   "metadata": {},
   "outputs": [
    {
     "name": "stdout",
     "output_type": "stream",
     "text": [
      "428.7495232040687\n",
      "430.45\n",
      "\n",
      "54933.33459131747\n",
      "57764.12527777776\n",
      "\n",
      "234.37861376695074\n",
      "240.34168443650753\n",
      "\n"
     ]
    }
   ],
   "source": [
    "# Calculate the mean and the variance of the monthly call duration\n",
    "\n",
    "print(df_surf['total_mins_per_user'].mean())\n",
    "print(df_ultimate['total_mins_per_user'].mean())\n",
    "print()\n",
    "\n",
    "print(np.var(df_surf['total_mins_per_user']))\n",
    "print(np.var(df_ultimate['total_mins_per_user']))\n",
    "print()\n",
    "\n",
    "print(np.std(df_surf['total_mins_per_user']))\n",
    "print(np.std(df_ultimate['total_mins_per_user']))\n",
    "print()"
   ]
  },
  {
   "cell_type": "code",
   "execution_count": 36,
   "metadata": {},
   "outputs": [
    {
     "data": {
      "text/plain": [
       "<AxesSubplot:title={'center':'total_mins_per_user'}, xlabel='month'>"
      ]
     },
     "execution_count": 36,
     "metadata": {},
     "output_type": "execute_result"
    },
    {
     "data": {
      "image/png": "[encoded data removed]",
      "text/plain": [
       "<Figure size 640x480 with 1 Axes>"
      ]
     },
     "metadata": {},
     "output_type": "display_data"
    },
    {
     "data": {
      "image/png": "[encoded data removed]",
      "text/plain": [
       "<Figure size 640x480 with 1 Axes>"
      ]
     },
     "metadata": {},
     "output_type": "display_data"
    }
   ],
   "source": [
    "# Plot a boxplot to visualize the distribution of the monthly call duration\n",
    "\n",
    "df_surf.boxplot(by ='month', column =['total_mins_per_user'], grid = False)\n",
    "df_ultimate.boxplot(by ='month', column =['total_mins_per_user'], grid = False)\n"
   ]
  },
  {
   "cell_type": "markdown",
   "metadata": {},
   "source": [
    "The MEDIAN call time between the two plans seem to be somewhat similar. BUT there are more outliers in the Ultimate plan. There's more users in the ultimate plan, whose call durations are MUCH higher."
   ]
  },
  {
   "cell_type": "markdown",
   "metadata": {},
   "source": [
    "### Messages"
   ]
  },
  {
   "cell_type": "code",
   "execution_count": null,
   "metadata": {},
   "outputs": [
    {
     "name": "stdout",
     "output_type": "stream",
     "text": [
      "31.15956770502225\n",
      "37.55138888888889\n",
      "\n",
      "1126.0082317266622\n",
      "1207.0779147376543\n",
      "\n",
      "33.556046127734746\n",
      "34.743026850544474\n"
     ]
    }
   ],
   "source": [
    "# Compare the number of messages users of each plan tend to send each month\n",
    "\n",
    "print(df_surf['total_msgs_per_user'].mean())\n",
    "print(df_ultimate['total_msgs_per_user'].mean())\n",
    "print()\n",
    "\n",
    "print(np.var(df_surf['total_msgs_per_user']))\n",
    "print(np.var(df_ultimate['total_msgs_per_user']))\n",
    "print()\n",
    "\n",
    "print(np.std(df_surf['total_msgs_per_user']))\n",
    "print(np.std(df_ultimate['total_msgs_per_user']))"
   ]
  },
  {
   "cell_type": "code",
   "execution_count": null,
   "metadata": {},
   "outputs": [
    {
     "data": {
      "image/png": "[encoded data removed]",
      "text/plain": [
       "<Figure size 432x288 with 1 Axes>"
      ]
     },
     "metadata": {
      "needs_background": "light"
     },
     "output_type": "display_data"
    }
   ],
   "source": [
    "df_surf['total_msgs_per_user'].plot(kind='hist', bins=20, title = 'Number of Text Messages', ylabel='Frenquency')\n",
    "df_ultimate['total_msgs_per_user'].plot(kind='hist',alpha =.6,bins=20)\n",
    "plt.legend([\"Surf Plan\", \"Ultimate Plan\"]);\n",
    "plt.show()"
   ]
  },
  {
   "cell_type": "code",
   "execution_count": null,
   "metadata": {},
   "outputs": [
    {
     "name": "stdout",
     "output_type": "stream",
     "text": [
      "       avg_msg_surf  avg_msg_ultimate\n",
      "month                                \n",
      "1                10                15\n",
      "2                12                21\n",
      "3                15                20\n",
      "4                17                22\n",
      "5                24                32\n",
      "6                25                29\n",
      "7                27                32\n",
      "8                28                38\n",
      "9                30                37\n",
      "10               33                39\n",
      "11               32                38\n",
      "12               38                45\n"
     ]
    },
    {
     "data": {
      "text/plain": [
       "<matplotlib.legend.Legend at 0x7f97c17cc310>"
      ]
     },
     "execution_count": 35,
     "metadata": {},
     "output_type": "execute_result"
    },
    {
     "data": {
      "image/png": "[encoded data removed]",
      "text/plain": [
       "<Figure size 432x288 with 1 Axes>"
      ]
     },
     "metadata": {
      "needs_background": "light"
     },
     "output_type": "display_data"
    }
   ],
   "source": [
    "df_surf_msg = df_surf.groupby('month')['total_msgs_per_user'].mean().astype(int)\n",
    "df_ultimate_msg = df_ultimate.groupby('month')['total_msgs_per_user'].mean().astype(int)\n",
    "\n",
    "df_avg_msg = pd.concat([df_surf_msg, df_ultimate_msg], axis=1)\n",
    "df_avg_msg.columns = ['avg_msg_surf','avg_msg_ultimate']\n",
    "print(df_avg_msg)\n",
    "\n",
    "df_avg_msg.plot(\n",
    "        kind='bar',\n",
    "        title='Average Text Messages Per Month',\n",
    "        xlabel='Month',\n",
    "        ylabel='Number of Text Messages',rot=0)\n",
    "plt.legend(['Surf Plan', 'Ultimate Plan'])"
   ]
  },
  {
   "cell_type": "markdown",
   "metadata": {},
   "source": [
    "Clearly users on the ultimate plan text significantly more. However, according to the histogram, a majority of users overall don't text much per month. There must be a few users on the Ulitmate Plan who text A LOT."
   ]
  },
  {
   "cell_type": "markdown",
   "metadata": {},
   "source": [
    "### Internet"
   ]
  },
  {
   "cell_type": "code",
   "execution_count": null,
   "metadata": {},
   "outputs": [
    {
     "name": "stdout",
     "output_type": "stream",
     "text": [
      "16558.283490146216\n",
      "17214.699694444444\n",
      "\n",
      "64175571.68301331\n",
      "61566665.1386863\n",
      "\n",
      "8010.965714757073\n",
      "7846.442833455571\n"
     ]
    }
   ],
   "source": [
    "# Compare the amount of internet traffic consumed by users per plan\n",
    "print(df_surf['total_mb_per_user'].mean())\n",
    "print(df_ultimate['total_mb_per_user'].mean())\n",
    "print()\n",
    "\n",
    "print(np.var(df_surf['total_mb_per_user']))\n",
    "print(np.var(df_ultimate['total_mb_per_user']))\n",
    "print()\n",
    "\n",
    "print(np.std(df_surf['total_mb_per_user']))\n",
    "print(np.std(df_ultimate['total_mb_per_user']))"
   ]
  },
  {
   "cell_type": "code",
   "execution_count": null,
   "metadata": {},
   "outputs": [
    {
     "data": {
      "image/png": "[encoded data removed]",
      "text/plain": [
       "<Figure size 432x288 with 1 Axes>"
      ]
     },
     "metadata": {
      "needs_background": "light"
     },
     "output_type": "display_data"
    }
   ],
   "source": [
    "df_surf['total_mb_per_user'].plot(kind='hist', bins=20, title = 'Total Data Used Per Month (MB)', ylabel='Frenquency')\n",
    "df_ultimate['total_mb_per_user'].plot(kind='hist',alpha =.6,bins=20)\n",
    "plt.legend([\"Surf Plan\", \"Ultimate Plan\"]);\n",
    "plt.show()"
   ]
  },
  {
   "cell_type": "code",
   "execution_count": null,
   "metadata": {},
   "outputs": [
    {
     "name": "stdout",
     "output_type": "stream",
     "text": [
      "       avg_mb_surf  avg_mb_ultimate\n",
      "month                              \n",
      "1             4874             6918\n",
      "2            12178            17128\n",
      "3            13345            18321\n",
      "4            11984            16121\n",
      "5            13936            16624\n",
      "6            15301            15337\n",
      "7            16783            16344\n",
      "8            16795            17814\n",
      "9            16591            16969\n",
      "10           17311            17612\n",
      "11           16339            17033\n",
      "12           18132            18323\n"
     ]
    },
    {
     "data": {
      "text/plain": [
       "<matplotlib.legend.Legend at 0x7f97c1705be0>"
      ]
     },
     "execution_count": 38,
     "metadata": {},
     "output_type": "execute_result"
    },
    {
     "data": {
      "image/png": "[encoded data removed]",
      "text/plain": [
       "<Figure size 432x288 with 1 Axes>"
      ]
     },
     "metadata": {
      "needs_background": "light"
     },
     "output_type": "display_data"
    }
   ],
   "source": [
    "df_surf_mb = df_surf.groupby('month')['total_mb_per_user'].mean().astype(int)\n",
    "df_ultimate_mb = df_ultimate.groupby('month')['total_mb_per_user'].mean().astype(int)\n",
    "\n",
    "df_avg_mb = pd.concat([df_surf_mb, df_ultimate_mb], axis=1)\n",
    "df_avg_mb.columns = ['avg_mb_surf','avg_mb_ultimate']\n",
    "print(df_avg_mb)\n",
    "\n",
    "df_avg_mb.plot(\n",
    "        kind='bar',\n",
    "        title='Average Data Used Per Month',\n",
    "        xlabel='Month',\n",
    "        ylabel='MB Spent',rot=0)\n",
    "plt.legend(['Surf Plan', 'Ultimate Plan'])\n"
   ]
  },
  {
   "cell_type": "markdown",
   "metadata": {},
   "source": [
    "Seems in the first 5 months of the year, users of the Ultimate plan use more data. But overall, it's not very different. Even the mean and standard deviation between surf and ultimate plans are similar!"
   ]
  },
  {
   "cell_type": "markdown",
   "metadata": {},
   "source": [
    " "
   ]
  },
  {
   "cell_type": "markdown",
   "metadata": {},
   "source": [
    "## Revenue"
   ]
  },
  {
   "cell_type": "code",
   "execution_count": null,
   "metadata": {},
   "outputs": [
    {
     "name": "stdout",
     "output_type": "stream",
     "text": [
      "60.71\n",
      "72.31\n",
      "\n",
      "3065.88\n",
      "129.67\n",
      "\n",
      "55.37\n",
      "11.39\n"
     ]
    }
   ],
   "source": [
    "print(df_surf['revenue'].mean().round(2))\n",
    "print(df_ultimate['revenue'].mean().round(2))\n",
    "print()\n",
    "\n",
    "print(np.var(df_surf['revenue']).round(2))\n",
    "print(np.var(df_ultimate['revenue']).round(2))\n",
    "print()\n",
    "\n",
    "print(np.std(df_surf['revenue']).round(2))\n",
    "print(np.std(df_ultimate['revenue']).round(2))"
   ]
  },
  {
   "cell_type": "code",
   "execution_count": null,
   "metadata": {},
   "outputs": [
    {
     "data": {
      "image/png": "[encoded data removed]",
      "text/plain": [
       "<Figure size 432x288 with 1 Axes>"
      ]
     },
     "metadata": {
      "needs_background": "light"
     },
     "output_type": "display_data"
    }
   ],
   "source": [
    "df_surf['revenue'].plot(kind='hist', bins=10, title = 'Total Revenue Month (USD)', ylabel='Frenquency')\n",
    "df_ultimate['revenue'].plot(kind='hist',alpha =.6,bins=10)\n",
    "plt.legend([\"Surf Plan\", \"Ultimate Plan\"]);\n",
    "plt.show()"
   ]
  },
  {
   "cell_type": "code",
   "execution_count": null,
   "metadata": {},
   "outputs": [
    {
     "name": "stdout",
     "output_type": "stream",
     "text": [
      "       avg_rev_surf  avg_rev_ultimate\n",
      "month                                \n",
      "1             20.00             70.00\n",
      "2             34.40             70.00\n",
      "3             45.94             74.67\n",
      "4             40.71             73.00\n",
      "5             47.63             70.72\n",
      "6             49.28             71.64\n",
      "7             62.67             71.90\n",
      "8             63.93             72.86\n",
      "9             58.27             72.03\n",
      "10            65.42             72.31\n",
      "11            58.00             71.71\n",
      "12            70.56             73.29\n"
     ]
    },
    {
     "data": {
      "text/plain": [
       "<matplotlib.legend.Legend at 0x7f97c1789070>"
      ]
     },
     "execution_count": 41,
     "metadata": {},
     "output_type": "execute_result"
    },
    {
     "data": {
      "image/png": "[encoded data removed]",
      "text/plain": [
       "<Figure size 432x288 with 1 Axes>"
      ]
     },
     "metadata": {
      "needs_background": "light"
     },
     "output_type": "display_data"
    }
   ],
   "source": [
    "df_surf_rev = df_surf.groupby('month')['revenue'].mean().round(2)\n",
    "df_ultimate_rev = df_ultimate.groupby('month')['revenue'].mean().round(2)\n",
    "\n",
    "df_avg_rev = pd.concat([df_surf_rev, df_ultimate_rev], axis=1)\n",
    "df_avg_rev.columns = ['avg_rev_surf','avg_rev_ultimate']\n",
    "print(df_avg_rev)\n",
    "\n",
    "df_avg_rev.plot(\n",
    "        kind='bar',\n",
    "        title='Average Revenue',\n",
    "        xlabel='Month',\n",
    "        ylabel='Revenue in USD',rot=0)\n",
    "plt.legend(['Surf Plan', 'Ultimate Plan'])"
   ]
  },
  {
   "cell_type": "markdown",
   "metadata": {},
   "source": [
    "Clearly the Ultimate plan is more profitable, ESPECIALLY  in the first half of the year.\n",
    "Based on the deviation of the surf plans, there's a couple users on the surf plan who would save signficant money by switching to the ultimate plan."
   ]
  },
  {
   "cell_type": "markdown",
   "metadata": {},
   "source": [
    " "
   ]
  },
  {
   "cell_type": "markdown",
   "metadata": {},
   "source": [
    "## Test statistical hypotheses"
   ]
  },
  {
   "cell_type": "code",
   "execution_count": null,
   "metadata": {},
   "outputs": [
    {
     "name": "stdout",
     "output_type": "stream",
     "text": [
      "p-value: 3.17039054811355e-15\n",
      "We reject the null hypothesis\n"
     ]
    }
   ],
   "source": [
    "# Test the hypotheses\n",
    "\n",
    "#null hypothesis = the average revenue of the Ultimate and Surf plans are similar\n",
    "#alternative hypothesis = the average revenue of the Ultimate and Surf plans are different\n",
    "\n",
    "alpha = .05\n",
    "\n",
    "results = st.ttest_ind(\n",
    "    df_surf['revenue'], \n",
    "    df_ultimate['revenue'], equal_var = False)\n",
    "\n",
    "print('p-value:', results.pvalue)\n",
    "\n",
    "if results.pvalue < alpha:\n",
    "    print(\"We reject the null hypothesis\")\n",
    "else:\n",
    "    print(\"We can't reject the null hypothesis\")\n",
    "\n"
   ]
  },
  {
   "cell_type": "code",
   "execution_count": null,
   "metadata": {},
   "outputs": [
    {
     "name": "stdout",
     "output_type": "stream",
     "text": [
      "p-value: 0.043557431621342436\n",
      "We reject the null hypothesis\n"
     ]
    }
   ],
   "source": [
    "# Test the hypotheses\n",
    "\n",
    "#null hypothesis = the average revenue of users in the NY-NJ area is similar from that of the users from the other regions.\n",
    "#alternative hypothesis = the average revenue of users in the NY-NJ area is different from that of the users from the other regions.\n",
    "\n",
    "df_ny_nj = df_merged.query(\"city == 'New York-Newark-Jersey City, NY-NJ-PA MSA'\")\n",
    "df_not_ny_nj = df_merged.query(\"city != 'New York-Newark-Jersey City, NY-NJ-PA MSA'\")\n",
    "\n",
    "results_2 = st.ttest_ind(\n",
    "    df_ny_nj['revenue'], \n",
    "    df_not_ny_nj['revenue'])\n",
    "\n",
    "print('p-value:', results_2.pvalue)\n",
    "\n",
    "if results_2.pvalue < alpha:\n",
    "    print(\"We reject the null hypothesis\")\n",
    "else:\n",
    "    print(\"We can't reject the null hypothesis\")\n"
   ]
  },
  {
   "cell_type": "markdown",
   "metadata": {},
   "source": [
    "We reject the null hypothesis, meaning we are in favor of the alternative hypostheis: the average revenue of users in the NY-NJ area is different from that of the users from the other regions."
   ]
  }
 ],
 "metadata": {
  "ExecuteTimeLog": [
   {
    "duration": 828,
    "start_time": "2021-11-16T09:21:11.304Z"
   },
   {
    "duration": 893,
    "start_time": "2021-11-16T09:21:17.728Z"
   },
   {
    "duration": 1150,
    "start_time": "2021-11-16T09:21:29.568Z"
   },
   {
    "duration": 3,
    "start_time": "2021-11-16T09:24:14.495Z"
   },
   {
    "duration": 120,
    "start_time": "2021-11-16T09:24:46.630Z"
   },
   {
    "duration": 3,
    "start_time": "2021-11-16T09:28:27.882Z"
   },
   {
    "duration": 4,
    "start_time": "2021-11-16T09:29:54.281Z"
   },
   {
    "duration": 3,
    "start_time": "2021-11-16T09:30:45.936Z"
   },
   {
    "duration": 4,
    "start_time": "2021-11-16T09:31:06.300Z"
   },
   {
    "duration": 113,
    "start_time": "2021-11-16T09:31:37.208Z"
   },
   {
    "duration": 143,
    "start_time": "2021-11-16T09:31:48.656Z"
   },
   {
    "duration": 98,
    "start_time": "2021-11-16T09:31:55.678Z"
   },
   {
    "duration": 3,
    "start_time": "2021-11-16T09:32:08.535Z"
   },
   {
    "duration": 111,
    "start_time": "2021-11-16T09:32:10.120Z"
   },
   {
    "duration": 3,
    "start_time": "2021-11-16T09:32:15.732Z"
   },
   {
    "duration": 4,
    "start_time": "2021-11-16T09:32:29.423Z"
   },
   {
    "duration": 3,
    "start_time": "2021-11-16T10:03:03.074Z"
   },
   {
    "duration": 3,
    "start_time": "2021-11-16T10:10:01.288Z"
   },
   {
    "duration": 3,
    "start_time": "2021-11-16T10:10:46.923Z"
   },
   {
    "duration": 121,
    "start_time": "2021-11-16T10:37:46.494Z"
   },
   {
    "duration": 125,
    "start_time": "2021-11-16T10:38:20.632Z"
   },
   {
    "duration": 112,
    "start_time": "2021-11-16T10:46:53.001Z"
   },
   {
    "duration": 110,
    "start_time": "2021-11-16T10:48:25.775Z"
   },
   {
    "duration": 3,
    "start_time": "2021-11-16T10:50:18.720Z"
   },
   {
    "duration": 4,
    "start_time": "2021-11-16T10:50:37.649Z"
   },
   {
    "duration": 2,
    "start_time": "2021-11-16T10:50:51.884Z"
   },
   {
    "duration": 3,
    "start_time": "2021-11-16T10:51:56.237Z"
   },
   {
    "duration": 101,
    "start_time": "2021-11-16T10:53:13.791Z"
   },
   {
    "duration": 3,
    "start_time": "2021-11-16T10:55:59.186Z"
   },
   {
    "duration": 3,
    "start_time": "2021-11-16T10:56:10.751Z"
   },
   {
    "duration": 3,
    "start_time": "2021-11-16T10:56:49.038Z"
   },
   {
    "duration": 3,
    "start_time": "2021-11-16T10:56:49.174Z"
   },
   {
    "duration": 4,
    "start_time": "2021-11-16T10:56:49.414Z"
   },
   {
    "duration": 3,
    "start_time": "2021-11-16T10:56:49.680Z"
   },
   {
    "duration": 3,
    "start_time": "2021-11-16T10:56:50.370Z"
   },
   {
    "duration": 114,
    "start_time": "2021-11-16T10:59:34.518Z"
   },
   {
    "duration": 3,
    "start_time": "2021-11-16T11:01:41.201Z"
   },
   {
    "duration": 116,
    "start_time": "2021-11-16T11:01:48.754Z"
   },
   {
    "duration": 3,
    "start_time": "2021-11-16T11:02:16.685Z"
   },
   {
    "duration": 3,
    "start_time": "2021-11-16T11:02:19.479Z"
   },
   {
    "duration": 3,
    "start_time": "2021-11-16T11:02:47.067Z"
   },
   {
    "duration": 3,
    "start_time": "2021-11-16T11:02:49.353Z"
   },
   {
    "duration": 3,
    "start_time": "2021-11-16T11:03:07.835Z"
   },
   {
    "duration": 3,
    "start_time": "2021-11-16T11:03:07.953Z"
   },
   {
    "duration": 112,
    "start_time": "2021-11-16T11:07:52.072Z"
   },
   {
    "duration": 187,
    "start_time": "2021-11-16T11:09:23.468Z"
   },
   {
    "duration": 4,
    "start_time": "2021-11-16T11:10:01.455Z"
   },
   {
    "duration": 3,
    "start_time": "2021-11-16T11:10:05.069Z"
   },
   {
    "duration": 4,
    "start_time": "2021-11-16T11:10:13.376Z"
   },
   {
    "duration": 3,
    "start_time": "2021-11-16T11:10:14.434Z"
   },
   {
    "duration": 3,
    "start_time": "2021-11-16T11:10:22.853Z"
   },
   {
    "duration": 4,
    "start_time": "2021-11-16T11:27:29.279Z"
   },
   {
    "duration": 4,
    "start_time": "2021-11-16T11:29:08.919Z"
   },
   {
    "duration": 118,
    "start_time": "2021-11-16T11:29:46.703Z"
   },
   {
    "duration": 437,
    "start_time": "2021-11-16T11:36:02.181Z"
   },
   {
    "duration": 157,
    "start_time": "2021-11-16T11:36:14.388Z"
   },
   {
    "duration": 207,
    "start_time": "2021-11-16T11:47:15.898Z"
   },
   {
    "duration": 3,
    "start_time": "2021-11-16T11:53:52.092Z"
   },
   {
    "duration": 3,
    "start_time": "2021-11-16T11:53:52.236Z"
   },
   {
    "duration": 3,
    "start_time": "2021-11-16T11:59:12.005Z"
   },
   {
    "duration": 112,
    "start_time": "2021-11-16T12:00:33.446Z"
   },
   {
    "duration": 3,
    "start_time": "2021-11-16T12:02:14.453Z"
   },
   {
    "duration": 3,
    "start_time": "2021-11-16T12:02:39.512Z"
   },
   {
    "duration": 106,
    "start_time": "2021-11-16T12:03:03.460Z"
   },
   {
    "duration": 3,
    "start_time": "2021-11-17T20:37:21.139Z"
   },
   {
    "duration": 3,
    "start_time": "2021-11-17T20:37:22.229Z"
   },
   {
    "duration": 3,
    "start_time": "2021-11-17T20:38:38.806Z"
   },
   {
    "duration": 3,
    "start_time": "2021-11-17T20:38:41.958Z"
   },
   {
    "duration": 3,
    "start_time": "2021-11-17T20:43:46.551Z"
   },
   {
    "duration": 4,
    "start_time": "2021-11-17T20:58:21.835Z"
   },
   {
    "duration": 3,
    "start_time": "2021-11-17T20:59:21.872Z"
   },
   {
    "duration": 4,
    "start_time": "2021-11-17T20:59:45.352Z"
   },
   {
    "duration": 4,
    "start_time": "2021-11-17T20:59:49.646Z"
   },
   {
    "duration": 159,
    "start_time": "2021-11-17T21:02:26.949Z"
   },
   {
    "duration": 3,
    "start_time": "2021-11-17T21:03:53.461Z"
   },
   {
    "duration": 3,
    "start_time": "2021-11-17T21:03:53.694Z"
   },
   {
    "duration": 3,
    "start_time": "2021-11-17T21:05:28.145Z"
   },
   {
    "duration": 116,
    "start_time": "2021-11-17T21:05:57.787Z"
   },
   {
    "duration": 3,
    "start_time": "2021-11-17T21:06:37.993Z"
   },
   {
    "duration": 3,
    "start_time": "2021-11-17T21:06:38.261Z"
   },
   {
    "duration": 3,
    "start_time": "2021-11-17T21:11:54.358Z"
   },
   {
    "duration": 3,
    "start_time": "2021-11-17T21:12:43.846Z"
   },
   {
    "duration": 4,
    "start_time": "2021-11-17T21:13:08.773Z"
   },
   {
    "duration": 3,
    "start_time": "2021-11-17T21:14:44.441Z"
   },
   {
    "duration": 3,
    "start_time": "2021-11-17T21:15:42.059Z"
   },
   {
    "duration": 4,
    "start_time": "2021-11-17T21:15:51.995Z"
   },
   {
    "duration": 3,
    "start_time": "2021-11-17T21:15:53.923Z"
   },
   {
    "duration": 3,
    "start_time": "2021-11-17T21:15:55.282Z"
   },
   {
    "duration": 3,
    "start_time": "2021-11-17T21:16:28.492Z"
   },
   {
    "duration": 3,
    "start_time": "2021-11-17T21:16:32.603Z"
   },
   {
    "duration": 3,
    "start_time": "2021-11-17T21:17:06.941Z"
   },
   {
    "duration": 98,
    "start_time": "2021-11-17T21:18:05.733Z"
   },
   {
    "duration": 4,
    "start_time": "2021-11-17T21:21:35.255Z"
   },
   {
    "duration": 3,
    "start_time": "2021-11-17T21:21:37.804Z"
   },
   {
    "duration": 4,
    "start_time": "2021-11-17T21:23:06.071Z"
   },
   {
    "duration": 3,
    "start_time": "2021-11-17T21:23:24.799Z"
   },
   {
    "duration": 3,
    "start_time": "2021-11-17T21:23:32.591Z"
   },
   {
    "duration": 98,
    "start_time": "2021-11-17T21:28:31.559Z"
   },
   {
    "duration": 3,
    "start_time": "2021-11-17T21:28:45.448Z"
   },
   {
    "duration": 3,
    "start_time": "2021-11-17T21:29:17.303Z"
   },
   {
    "duration": 3,
    "start_time": "2021-11-17T21:29:29.617Z"
   },
   {
    "duration": 3,
    "start_time": "2021-11-17T21:29:32.681Z"
   },
   {
    "duration": 3,
    "start_time": "2021-11-17T21:36:11.474Z"
   },
   {
    "duration": 3,
    "start_time": "2021-11-17T21:36:14.791Z"
   },
   {
    "duration": 3,
    "start_time": "2021-11-17T21:36:53.943Z"
   },
   {
    "duration": 3,
    "start_time": "2021-11-17T21:36:56.165Z"
   },
   {
    "duration": 4,
    "start_time": "2021-11-17T21:37:16.590Z"
   },
   {
    "duration": 3,
    "start_time": "2021-11-17T21:37:22.702Z"
   },
   {
    "duration": 4,
    "start_time": "2021-11-17T21:38:03.479Z"
   },
   {
    "duration": 3,
    "start_time": "2021-11-17T21:38:08.601Z"
   },
   {
    "duration": 3,
    "start_time": "2021-11-17T21:38:12.928Z"
   },
   {
    "duration": 3,
    "start_time": "2021-11-17T21:38:48.896Z"
   },
   {
    "duration": 2,
    "start_time": "2021-11-17T21:38:49.171Z"
   },
   {
    "duration": 4,
    "start_time": "2021-11-17T21:39:57.889Z"
   },
   {
    "duration": 3,
    "start_time": "2021-11-17T21:39:58.057Z"
   },
   {
    "duration": 3,
    "start_time": "2021-11-17T21:41:20.108Z"
   },
   {
    "duration": 3,
    "start_time": "2021-11-17T21:41:20.629Z"
   },
   {
    "duration": 3,
    "start_time": "2021-11-17T21:42:49.136Z"
   },
   {
    "duration": 3,
    "start_time": "2021-11-17T21:43:15.137Z"
   },
   {
    "duration": 4,
    "start_time": "2021-11-17T21:43:16.766Z"
   },
   {
    "duration": 4,
    "start_time": "2021-11-17T21:43:31.711Z"
   },
   {
    "duration": 3,
    "start_time": "2021-11-17T21:43:36.312Z"
   },
   {
    "duration": 4,
    "start_time": "2021-11-17T21:45:08.825Z"
   },
   {
    "duration": 4,
    "start_time": "2021-11-17T21:45:10.119Z"
   },
   {
    "duration": 4,
    "start_time": "2021-11-17T21:45:13.748Z"
   },
   {
    "duration": 3,
    "start_time": "2021-11-17T21:45:22.219Z"
   },
   {
    "duration": 3,
    "start_time": "2021-11-17T21:45:33.412Z"
   },
   {
    "duration": 2,
    "start_time": "2021-11-17T21:46:01.885Z"
   },
   {
    "duration": 3,
    "start_time": "2021-11-17T21:46:03.628Z"
   },
   {
    "duration": 107,
    "start_time": "2021-11-17T21:47:32.512Z"
   },
   {
    "duration": 103,
    "start_time": "2021-11-17T21:50:36.243Z"
   },
   {
    "duration": 3,
    "start_time": "2021-11-18T06:28:31.440Z"
   },
   {
    "duration": 3,
    "start_time": "2021-11-18T06:29:00.168Z"
   },
   {
    "duration": 3,
    "start_time": "2021-11-18T06:31:27.008Z"
   },
   {
    "duration": 2,
    "start_time": "2021-11-18T06:35:34.288Z"
   },
   {
    "duration": 2,
    "start_time": "2021-11-18T06:38:04.527Z"
   }
  ],
  "kernelspec": {
   "display_name": "base",
   "language": "python",
   "name": "python3"
  },
  "language_info": {
   "codemirror_mode": {
    "name": "ipython",
    "version": 3
   },
   "file_extension": ".py",
   "mimetype": "text/x-python",
   "name": "python",
   "nbconvert_exporter": "python",
   "pygments_lexer": "ipython3",
   "version": "3.9.13"
  },
  "toc": {
   "base_numbering": 1,
   "nav_menu": {},
   "number_sections": true,
   "sideBar": true,
   "skip_h1_title": false,
   "title_cell": "Table of Contents",
   "title_sidebar": "Contents",
   "toc_cell": false,
   "toc_position": {},
   "toc_section_display": true,
   "toc_window_display": true
  },
  "vscode": {
   "interpreter": {
    "hash": "128a52faa6f19e8d897e7a909837098490dae80bb9f013db4ed13fafd5e25653"
   }
  }
 },
 "nbformat": 4,
 "nbformat_minor": 2
}
